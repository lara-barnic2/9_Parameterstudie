{
 "cells": [
  {
   "cell_type": "code",
   "execution_count": 16,
   "metadata": {},
   "outputs": [],
   "source": [
    "import pandas as pd\n",
    "import matplotlib.pyplot as plt"
   ]
  },
  {
   "cell_type": "code",
   "execution_count": 18,
   "metadata": {},
   "outputs": [
    {
     "data": {
      "text/plain": [
       "np.float64(542.6117310145243)"
      ]
     },
     "execution_count": 18,
     "metadata": {},
     "output_type": "execute_result"
    }
   ],
   "source": [
    "#create dicrionnary with \n",
    "data = {'Strom-Mix-D': 0.137808, 'Fotovoltaik': 0.032308}\n",
    "path = r\"C:\\Users\\lbarnic\\OneDrive - Fraunhofer\\A_Bearbeitung\\9_Parameterstudie_REP\\9_Niedertemperatur\\Co2e_NT_WN.out\"\n",
    "def import_data(path):\n",
    "    # system = pd.read_csv(path)\n",
    "    system = pd.read_csv(path, sep=',', skipinitialspace=True, index_col=0, skiprows=7)\n",
    "    # remove spaces in column names\n",
    "    system.columns = system.columns.str.strip()\n",
    "    #drop last column\n",
    "    system = system.iloc[:, :-1]\n",
    "    system[\"PV-Eigennutzung\"] = pd.NA\n",
    "    return system\n",
    "\n",
    "system = import_data(path)/1000/4 #MWh\n",
    "#aufsummieren je spalte\n",
    "system = system.sum(axis=0)\n",
    "#,ultipliziere Wert Netzstrom mit Strommix\n",
    "\n",
    "Netzstrom_co2e=system[\"Netzstrom\"]*data[\"Strom-Mix-D\"]*25 # tCO2e\n",
    "PV_co2e=system[\"PV_Strom\"]*data[\"Fotovoltaik\"]*25\n",
    "\n",
    "co2e_system = Netzstrom_co2e+PV_co2e\n",
    "co2e_system"
   ]
  }
 ],
 "metadata": {
  "kernelspec": {
   "display_name": "Python 3",
   "language": "python",
   "name": "python3"
  },
  "language_info": {
   "codemirror_mode": {
    "name": "ipython",
    "version": 3
   },
   "file_extension": ".py",
   "mimetype": "text/x-python",
   "name": "python",
   "nbconvert_exporter": "python",
   "pygments_lexer": "ipython3",
   "version": "3.13.0"
  }
 },
 "nbformat": 4,
 "nbformat_minor": 2
}
