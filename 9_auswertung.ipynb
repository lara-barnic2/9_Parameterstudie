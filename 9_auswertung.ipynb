{
 "cells": [
  {
   "cell_type": "code",
   "execution_count": 37,
   "metadata": {},
   "outputs": [],
   "source": [
    "import pandas as pd\n",
    "import matplotlib.pyplot as plt"
   ]
  },
  {
   "cell_type": "markdown",
   "metadata": {},
   "source": [
    "# NT WN"
   ]
  },
  {
   "cell_type": "code",
   "execution_count": 38,
   "metadata": {},
   "outputs": [
    {
     "data": {
      "text/plain": [
       "2.5     546.776473\n",
       "5       537.799220\n",
       "7.5     529.431553\n",
       "10      521.040308\n",
       "12.5    512.625239\n",
       "dtype: float64"
      ]
     },
     "execution_count": 38,
     "metadata": {},
     "output_type": "execute_result"
    }
   ],
   "source": [
    "#create dicrionnary with \n",
    "emission_factors = {'Strom-Mix-D': 0.137808, 'Fotovoltaik': 0.032308}\n",
    "paths ={'2.5': r\"C:\\Users\\lbarnic\\OneDrive - Fraunhofer\\A_Bearbeitung\\9_Parameterstudie_REP\\9_NT_WN\\V1_2_5_Niedertemperatur\\parametric_2_5kW.out\",\n",
    "        '5': r\"C:\\Users\\lbarnic\\OneDrive - Fraunhofer\\A_Bearbeitung\\9_Parameterstudie_REP\\9_NT_WN\\V2_5_Niedertemperatur\\parametric_2_5kW.out\",\n",
    "        '7.5': r\"C:\\Users\\lbarnic\\OneDrive - Fraunhofer\\A_Bearbeitung\\9_Parameterstudie_REP\\9_NT_WN\\V3_7_5Niedertemperatur\\parametric_7_5kW.out\",\n",
    "        '10': r\"C:\\Users\\lbarnic\\OneDrive - Fraunhofer\\A_Bearbeitung\\9_Parameterstudie_REP\\9_NT_WN\\V4_10_Niedertemperatur\\parametric_10kW.out\",\n",
    "        '12.5': r\"C:\\Users\\lbarnic\\OneDrive - Fraunhofer\\A_Bearbeitung\\9_Parameterstudie_REP\\9_NT_WN\\V5_12_5_Niedertemperatur\\parametric_12_5kW.out\",\n",
    "        }\n",
    "         \n",
    "def import_data(path):\n",
    "    # system = pd.read_csv(path)\n",
    "    system = pd.read_csv(path, sep=',', skipinitialspace=True, index_col=0, skiprows=7)\n",
    "    # remove spaces in column names\n",
    "    system.columns = system.columns.str.strip()\n",
    "    #drop last column\n",
    "    system = system.iloc[:, :-1]\n",
    "    system[\"PV-Eigennutzung\"] = pd.NA\n",
    "    return system\n",
    "\n",
    "result = {}\n",
    "\n",
    "for key in paths:\n",
    "    system = import_data(paths[key]).sum()/1000/4 #MWh\n",
    "    Netzstrom_co2e=system[\"Netzstrom\"]*emission_factors[\"Strom-Mix-D\"]*25 # tCO2e\n",
    "    PV_co2e=system[\"PV_Strom\"]*emission_factors[\"Fotovoltaik\"]*25\n",
    "\n",
    "    co2e_system = Netzstrom_co2e+PV_co2e\n",
    "    result[key] = co2e_system\n",
    "#aufsummieren je spalte\n",
    "#multipliziere Wert Netzstrom mit Strommix\n",
    "pd.Series(result)"
   ]
  },
  {
   "cell_type": "markdown",
   "metadata": {},
   "source": [
    "# Kalte NW"
   ]
  },
  {
   "cell_type": "code",
   "execution_count": 54,
   "metadata": {},
   "outputs": [
    {
     "data": {
      "text/plain": [
       "Original    243.302217\n",
       "0           243.124643\n",
       "2.5         235.351175\n",
       "5           233.256628\n",
       "7.5         231.356956\n",
       "10          229.640788\n",
       "12.5        228.103438\n",
       "dtype: float64"
      ]
     },
     "execution_count": 54,
     "metadata": {},
     "output_type": "execute_result"
    }
   ],
   "source": [
    "#create dicrionnary with \n",
    "emission_factors = {'Strom-Mix-D': 0.137808, 'Fotovoltaik': 0.032308}\n",
    "paths ={'Original': r\"C:\\Users\\lbarnic\\OneDrive - Fraunhofer\\A_Bearbeitung\\9_Parameterstudie_REP\\9_kaltes_Nahwaermenetz\\III_kaltes_Nahwaermenetz\\Co2e_kalte_NW.out\",\n",
    "        '0': r\"C:\\Users\\lbarnic\\OneDrive - Fraunhofer\\A_Bearbeitung\\9_Parameterstudie_REP\\9_kaltes_Nahwaermenetz\\V0_0\\Co2e_kalte_NW.out\",\n",
    "        '2.5': r\"C:\\Users\\lbarnic\\OneDrive - Fraunhofer\\A_Bearbeitung\\9_Parameterstudie_REP\\9_kaltes_Nahwaermenetz\\fail\\V1_2.5\\Parametric_Co2e_kalte_NW_2_5.out\",\n",
    "        '5': r\"C:\\Users\\lbarnic\\OneDrive - Fraunhofer\\A_Bearbeitung\\9_Parameterstudie_REP\\9_kaltes_Nahwaermenetz\\fail\\V2_5\\Parametric_Co2e_kalte_NW_5.out\",\n",
    "        '7.5': r\"C:\\Users\\lbarnic\\OneDrive - Fraunhofer\\A_Bearbeitung\\9_Parameterstudie_REP\\9_kaltes_Nahwaermenetz\\fail\\V3_7.5\\Parametric_Co2e_kalte_NW_7_5.out\",\n",
    "        '10': r\"C:\\Users\\lbarnic\\OneDrive - Fraunhofer\\A_Bearbeitung\\9_Parameterstudie_REP\\9_kaltes_Nahwaermenetz\\fail\\V4_10\\Parametric_Co2e_kalte_NW_10.out\",\n",
    "        '12.5': r\"C:\\Users\\lbarnic\\OneDrive - Fraunhofer\\A_Bearbeitung\\9_Parameterstudie_REP\\9_kaltes_Nahwaermenetz\\fail\\V5_12.5\\Parametric_Co2e_kalte_NW_12_5.out\",\n",
    "        }\n",
    "         \n",
    "def import_data(path):\n",
    "    # system = pd.read_csv(path)\n",
    "    system = pd.read_csv(path, sep=',', skipinitialspace=True, index_col=0, skiprows=7)\n",
    "    # remove spaces in column names\n",
    "    system.columns = system.columns.str.strip()\n",
    "    #drop last column\n",
    "    system = system.iloc[:, :-1]\n",
    "    system[\"PV-Eigennutzung\"] = pd.NA\n",
    "    return system\n",
    "\n",
    "result = {}\n",
    "\n",
    "for key in paths:\n",
    "    system = import_data(paths[key]).sum()/1000/4 #MWh\n",
    "    Netzstrom_co2e=system[\"Netzstrom\"]*emission_factors[\"Strom-Mix-D\"]*25 # tCO2e\n",
    "    PV_co2e=system[\"PV_Strom\"]*emission_factors[\"Fotovoltaik\"]*25\n",
    "\n",
    "    co2e_system = Netzstrom_co2e+PV_co2e\n",
    "    result[key] = co2e_system\n",
    "#aufsummieren je spalte\n",
    "#multipliziere Wert Netzstrom mit Strommix\n",
    "pd.Series(result)"
   ]
  }
 ],
 "metadata": {
  "kernelspec": {
   "display_name": "Python 3",
   "language": "python",
   "name": "python3"
  },
  "language_info": {
   "codemirror_mode": {
    "name": "ipython",
    "version": 3
   },
   "file_extension": ".py",
   "mimetype": "text/x-python",
   "name": "python",
   "nbconvert_exporter": "python",
   "pygments_lexer": "ipython3",
   "version": "3.13.0"
  }
 },
 "nbformat": 4,
 "nbformat_minor": 2
}
