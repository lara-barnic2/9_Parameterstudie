{
 "cells": [
  {
   "cell_type": "code",
   "execution_count": 37,
   "metadata": {},
   "outputs": [],
   "source": [
    "import pandas as pd\n",
    "import matplotlib.pyplot as plt"
   ]
  },
  {
   "cell_type": "markdown",
   "metadata": {},
   "source": [
    "# NT WN"
   ]
  },
  {
   "cell_type": "code",
   "execution_count": 38,
   "metadata": {},
   "outputs": [
    {
     "data": {
      "text/plain": [
       "2.5     546.776473\n",
       "5       537.799220\n",
       "7.5     529.431553\n",
       "10      521.040308\n",
       "12.5    512.625239\n",
       "dtype: float64"
      ]
     },
     "execution_count": 38,
     "metadata": {},
     "output_type": "execute_result"
    }
   ],
   "source": [
    "#create dicrionnary with \n",
    "emission_factors = {'Strom-Mix-D': 0.137808, 'Fotovoltaik': 0.032308}\n",
    "paths ={'2.5': r\"C:\\Users\\lbarnic\\OneDrive - Fraunhofer\\A_Bearbeitung\\9_Parameterstudie_REP\\9_NT_WN\\V1_2_5_Niedertemperatur\\parametric_2_5kW.out\",\n",
    "        '5': r\"C:\\Users\\lbarnic\\OneDrive - Fraunhofer\\A_Bearbeitung\\9_Parameterstudie_REP\\9_NT_WN\\V2_5_Niedertemperatur\\parametric_2_5kW.out\",\n",
    "        '7.5': r\"C:\\Users\\lbarnic\\OneDrive - Fraunhofer\\A_Bearbeitung\\9_Parameterstudie_REP\\9_NT_WN\\V3_7_5Niedertemperatur\\parametric_7_5kW.out\",\n",
    "        '10': r\"C:\\Users\\lbarnic\\OneDrive - Fraunhofer\\A_Bearbeitung\\9_Parameterstudie_REP\\9_NT_WN\\V4_10_Niedertemperatur\\parametric_10kW.out\",\n",
    "        '12.5': r\"C:\\Users\\lbarnic\\OneDrive - Fraunhofer\\A_Bearbeitung\\9_Parameterstudie_REP\\9_NT_WN\\V5_12_5_Niedertemperatur\\parametric_12_5kW.out\",\n",
    "        }\n",
    "         \n",
    "def import_data(path):\n",
    "    # system = pd.read_csv(path)\n",
    "    system = pd.read_csv(path, sep=',', skipinitialspace=True, index_col=0, skiprows=7)\n",
    "    # remove spaces in column names\n",
    "    system.columns = system.columns.str.strip()\n",
    "    #drop last column\n",
    "    system = system.iloc[:, :-1]\n",
    "    system[\"PV-Eigennutzung\"] = pd.NA\n",
    "    return system\n",
    "\n",
    "result = {}\n",
    "\n",
    "for key in paths:\n",
    "    system = import_data(paths[key]).sum()/1000/4 #MWh\n",
    "    Netzstrom_co2e=system[\"Netzstrom\"]*emission_factors[\"Strom-Mix-D\"]*25 # tCO2e\n",
    "    PV_co2e=system[\"PV_Strom\"]*emission_factors[\"Fotovoltaik\"]*25\n",
    "\n",
    "    co2e_system = Netzstrom_co2e+PV_co2e\n",
    "    result[key] = co2e_system\n",
    "#aufsummieren je spalte\n",
    "#multipliziere Wert Netzstrom mit Strommix\n",
    "pd.Series(result)"
   ]
  },
  {
   "cell_type": "markdown",
   "metadata": {},
   "source": [
    "# Kalte NW"
   ]
  },
  {
   "cell_type": "code",
   "execution_count": 63,
   "metadata": {},
   "outputs": [
    {
     "data": {
      "text/plain": [
       "0       243.124643\n",
       "2.5     240.638866\n",
       "5       238.480504\n",
       "7.5     236.504610\n",
       "10      234.670245\n",
       "12.5    232.983585\n",
       "dtype: float64"
      ]
     },
     "execution_count": 63,
     "metadata": {},
     "output_type": "execute_result"
    }
   ],
   "source": [
    "#create dicrionnary with \n",
    "emission_factors = {'Strom-Mix-D': 0.137808, 'Fotovoltaik': 0.032308}\n",
    "paths ={'0': r\"C:\\Users\\lbarnic\\OneDrive - Fraunhofer\\A_Bearbeitung\\9_Parameterstudie_REP\\9_kaltes_Nahwaermenetz\\V0_0\\KNW_0.out\",\n",
    "        '2.5': r\"C:\\Users\\lbarnic\\OneDrive - Fraunhofer\\A_Bearbeitung\\9_Parameterstudie_REP\\9_kaltes_Nahwaermenetz\\V1_2_5\\KNW_2_5.out\",\n",
    "        '5': r\"C:\\Users\\lbarnic\\OneDrive - Fraunhofer\\A_Bearbeitung\\9_Parameterstudie_REP\\9_kaltes_Nahwaermenetz\\V2_5\\KNW_5.out\",\n",
    "        '7.5': r\"C:\\Users\\lbarnic\\OneDrive - Fraunhofer\\A_Bearbeitung\\9_Parameterstudie_REP\\9_kaltes_Nahwaermenetz\\V3_7_5\\KNW_7_5.out\",\n",
    "        '10': r\"C:\\Users\\lbarnic\\OneDrive - Fraunhofer\\A_Bearbeitung\\9_Parameterstudie_REP\\9_kaltes_Nahwaermenetz\\V4_10\\KNW_10.out\",\n",
    "        '12.5': r\"C:\\Users\\lbarnic\\OneDrive - Fraunhofer\\A_Bearbeitung\\9_Parameterstudie_REP\\9_kaltes_Nahwaermenetz\\V5_12_5\\KNW_12_5.out\",\n",
    "        }\n",
    "         \n",
    "def import_data(path):\n",
    "    # system = pd.read_csv(path)\n",
    "    system = pd.read_csv(path, sep=',', skipinitialspace=True, index_col=0, skiprows=7)\n",
    "    # remove spaces in column names\n",
    "    system.columns = system.columns.str.strip()\n",
    "    #drop last column\n",
    "    system = system.iloc[:, :-1]\n",
    "    system[\"PV-Eigennutzung\"] = pd.NA\n",
    "    return system\n",
    "\n",
    "result = {}\n",
    "\n",
    "for key in paths:\n",
    "    system = import_data(paths[key]).sum()/1000/4 #MWh\n",
    "    Netzstrom_co2e=system[\"Netzstrom\"]*emission_factors[\"Strom-Mix-D\"]*25 # tCO2e\n",
    "    PV_co2e=system[\"PV_Strom\"]*emission_factors[\"Fotovoltaik\"]*25\n",
    "\n",
    "    co2e_system = Netzstrom_co2e+PV_co2e\n",
    "    result[key] = co2e_system\n",
    "#aufsummieren je spalte\n",
    "#multipliziere Wert Netzstrom mit Strommix\n",
    "pd.Series(result)"
   ]
  }
 ],
 "metadata": {
  "kernelspec": {
   "display_name": "Python 3",
   "language": "python",
   "name": "python3"
  },
  "language_info": {
   "codemirror_mode": {
    "name": "ipython",
    "version": 3
   },
   "file_extension": ".py",
   "mimetype": "text/x-python",
   "name": "python",
   "nbconvert_exporter": "python",
   "pygments_lexer": "ipython3",
   "version": "3.13.0"
  }
 },
 "nbformat": 4,
 "nbformat_minor": 2
}
