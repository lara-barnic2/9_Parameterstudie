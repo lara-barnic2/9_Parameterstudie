{
 "cells": [
  {
   "cell_type": "code",
   "execution_count": 19,
   "metadata": {},
   "outputs": [],
   "source": [
    "import pandas as pd\n",
    "import matplotlib.pyplot as plt"
   ]
  },
  {
   "cell_type": "code",
   "execution_count": 26,
   "metadata": {},
   "outputs": [
    {
     "data": {
      "text/plain": [
       "2.5     548.495867\n",
       "5       542.611731\n",
       "7.5     538.384909\n",
       "10      535.356809\n",
       "12.5    533.407523\n",
       "dtype: float64"
      ]
     },
     "execution_count": 26,
     "metadata": {},
     "output_type": "execute_result"
    }
   ],
   "source": [
    "#create dicrionnary with \n",
    "emission_factors = {'Strom-Mix-D': 0.137808, 'Fotovoltaik': 0.032308}\n",
    "paths ={'2.5': r\"C:\\Users\\lbarnic\\OneDrive - Fraunhofer\\A_Bearbeitung\\9_Parameterstudie_REP\\9_NT_WN\\parametric_study\\parametric_2_5kW.out\",\n",
    "        '5': r\"C:\\Users\\lbarnic\\OneDrive - Fraunhofer\\A_Bearbeitung\\9_Parameterstudie_REP\\9_NT_WN\\parametric_study\\parametric_5kW.out\",\n",
    "        '7.5': r\"C:\\Users\\lbarnic\\OneDrive - Fraunhofer\\A_Bearbeitung\\9_Parameterstudie_REP\\9_NT_WN\\parametric_study\\parametric_7_5kW.out\",\n",
    "        '10': r\"C:\\Users\\lbarnic\\OneDrive - Fraunhofer\\A_Bearbeitung\\9_Parameterstudie_REP\\9_NT_WN\\parametric_study\\parametric_10kW.out\",\n",
    "        '12.5': r\"C:\\Users\\lbarnic\\OneDrive - Fraunhofer\\A_Bearbeitung\\9_Parameterstudie_REP\\9_NT_WN\\parametric_study\\parametric_12_5kW.out\",\n",
    "        }\n",
    "         \n",
    "def import_data(path):\n",
    "    # system = pd.read_csv(path)\n",
    "    system = pd.read_csv(path, sep=',', skipinitialspace=True, index_col=0, skiprows=7)\n",
    "    # remove spaces in column names\n",
    "    system.columns = system.columns.str.strip()\n",
    "    #drop last column\n",
    "    system = system.iloc[:, :-1]\n",
    "    system[\"PV-Eigennutzung\"] = pd.NA\n",
    "    return system\n",
    "\n",
    "result = {}\n",
    "\n",
    "for key in paths:\n",
    "    system = import_data(paths[key]).sum()/1000/4 #MWh\n",
    "    Netzstrom_co2e=system[\"Netzstrom\"]*emission_factors[\"Strom-Mix-D\"]*25 # tCO2e\n",
    "    PV_co2e=system[\"PV_Strom\"]*emission_factors[\"Fotovoltaik\"]*25\n",
    "\n",
    "    co2e_system = Netzstrom_co2e+PV_co2e\n",
    "    result[key] = co2e_system\n",
    "#aufsummieren je spalte\n",
    "#multipliziere Wert Netzstrom mit Strommix\n",
    "pd.Series(result)"
   ]
  }
 ],
 "metadata": {
  "kernelspec": {
   "display_name": "Python 3",
   "language": "python",
   "name": "python3"
  },
  "language_info": {
   "codemirror_mode": {
    "name": "ipython",
    "version": 3
   },
   "file_extension": ".py",
   "mimetype": "text/x-python",
   "name": "python",
   "nbconvert_exporter": "python",
   "pygments_lexer": "ipython3",
   "version": "3.13.0"
  }
 },
 "nbformat": 4,
 "nbformat_minor": 2
}
